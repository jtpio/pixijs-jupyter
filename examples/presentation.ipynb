{
 "cells": [
  {
   "cell_type": "markdown",
   "metadata": {},
   "source": [
    "# Practical Examples of Interactive Visualizations in JupyterLab with Pixi.js and Jupyter Widgets\n",
    "\n",
    "# PyData Berlin 2018 - 2018-07-08\n",
    "\n",
    "# Jeremy Tuloup\n",
    "\n",
    "# [@jtpio](https://twitter.com/jtpio)\n",
    "# [github.com/jtpio](https://github.com/jtpio)\n",
    "# [jtp.io](https://jtp.io)"
   ]
  },
  {
   "cell_type": "markdown",
   "metadata": {},
   "source": [
    "![skip](./img/skip.png)"
   ]
  },
  {
   "cell_type": "markdown",
   "metadata": {},
   "source": [
    "#  The Python Visualization Landscape (2017)\n",
    "\n",
    "\n",
    "![Python Landscape](./img/python_viz_landscape.png)\n",
    "\n",
    "Source:\n",
    "\n",
    "- [Jake VanderPlas: The Python Visualization Landscape PyCon 2017](https://www.youtube.com/watch?v=FytuB8nFHPQ)\n",
    "- [Source for the Visualization](https://github.com/rougier/python-visualization-landscape), by Nicolas P. Rougier"
   ]
  },
  {
   "cell_type": "markdown",
   "metadata": {},
   "source": [
    "![skip](./img/skip.png)"
   ]
  },
  {
   "cell_type": "markdown",
   "metadata": {},
   "source": [
    "# Motivation\n",
    "\n",
    "\n",
    "|Not This|This|\n",
    "|:--------------------------:|:-----------------------------------------:|\n",
    "|![from](img/matplotlib_barchart.png)  |  ![to](img/pixijs-jupyterlab.gif)|"
   ]
  },
  {
   "cell_type": "markdown",
   "metadata": {},
   "source": [
    "![skip](./img/skip.png)"
   ]
  },
  {
   "cell_type": "markdown",
   "metadata": {},
   "source": [
    "# JupyterLab - Pixi.js - Jupyter Widgets?"
   ]
  },
  {
   "cell_type": "markdown",
   "metadata": {},
   "source": [
    "![skip](./img/skip.png)"
   ]
  },
  {
   "cell_type": "markdown",
   "metadata": {},
   "source": [
    "# Prerequisites\n",
    "\n",
    "# * Jupyter Notebook\n",
    "# * Python"
   ]
  },
  {
   "cell_type": "markdown",
   "metadata": {},
   "source": [
    "![skip](./img/skip.png)"
   ]
  },
  {
   "cell_type": "markdown",
   "metadata": {},
   "source": [
    "# JupyterLab"
   ]
  },
  {
   "cell_type": "markdown",
   "metadata": {},
   "source": [
    "![skip](./img/skip.png)"
   ]
  },
  {
   "cell_type": "markdown",
   "metadata": {},
   "source": [
    "![pixi](pixi/pixijs-logo.png)\n",
    "\n",
    "## * Powerful 2D rendering engine written in JavaScript\n",
    "## * Abstraction on top of Canvas and WebGL\n",
    "\n",
    "# [Live Example!](http://localhost:4000)\n",
    "\n",
    "```javascript\n",
    "let app = new PIXI.Application(800, 600, {backgroundColor : 0x1099bb});\n",
    "document.body.appendChild(app.view);\n",
    "\n",
    "let bunny = PIXI.Sprite.fromImage('bunny.png')\n",
    "\n",
    "bunny.anchor.set(0.5);\n",
    "\n",
    "bunny.x = app.screen.width / 2;\n",
    "bunny.y = app.screen.height / 2;\n",
    "\n",
    "app.stage.addChild(bunny);\n",
    "\n",
    "app.ticker.add((delta) => {\n",
    "    bunny.rotation += 0.1 * delta;\n",
    "});\n",
    "```"
   ]
  },
  {
   "cell_type": "markdown",
   "metadata": {},
   "source": [
    "![skip](./img/skip.png)"
   ]
  },
  {
   "cell_type": "markdown",
   "metadata": {},
   "source": [
    "# Jupyter Widgets\n",
    "\n",
    "![WidgetModelView](./img/WidgetModelView.png)\n",
    "\n",
    "[Open the image](./img/WidgetModelView.png)\n",
    "\n",
    "- Source: [https://ipywidgets.readthedocs.io/en/stable/examples/Widget%20Basics.html#Why-does-displaying-the-same-widget-twice-work?](https://ipywidgets.readthedocs.io/en/stable/examples/Widget%20Basics.html#Why-does-displaying-the-same-widget-twice-work?)"
   ]
  },
  {
   "cell_type": "code",
   "execution_count": 1,
   "metadata": {},
   "outputs": [
    {
     "data": {
      "application/vnd.jupyter.widget-view+json": {
       "model_id": "9170102deac14428a5aa17304ca4c73d",
       "version_major": 2,
       "version_minor": 0
      },
      "text/plain": [
       "IntSlider(value=0, max=10)"
      ]
     },
     "metadata": {},
     "output_type": "display_data"
    }
   ],
   "source": [
    "from ipywidgets import IntSlider\n",
    "slider = IntSlider(min=0, max=10)\n",
    "slider"
   ]
  },
  {
   "cell_type": "code",
   "execution_count": 2,
   "metadata": {},
   "outputs": [
    {
     "data": {
      "application/vnd.jupyter.widget-view+json": {
       "model_id": "9170102deac14428a5aa17304ca4c73d",
       "version_major": 2,
       "version_minor": 0
      },
      "text/plain": [
       "IntSlider(value=0, max=10)"
      ]
     },
     "metadata": {},
     "output_type": "display_data"
    }
   ],
   "source": [
    "slider"
   ]
  },
  {
   "cell_type": "code",
   "execution_count": 3,
   "metadata": {},
   "outputs": [
    {
     "data": {
      "text/plain": [
       "0"
      ]
     },
     "execution_count": 3,
     "metadata": {},
     "output_type": "execute_result"
    }
   ],
   "source": [
    "slider.value"
   ]
  },
  {
   "cell_type": "code",
   "execution_count": 4,
   "metadata": {},
   "outputs": [],
   "source": [
    "slider.value = 2"
   ]
  },
  {
   "cell_type": "markdown",
   "metadata": {},
   "source": [
    "# Tutorial to create your own\n",
    "\n",
    "## https://ipywidgets.readthedocs.io/en/stable/examples/Widget%20Custom.html\n",
    "\n",
    "# Libraries\n",
    "\n",
    "## bqplot\n",
    "\n",
    "![bqplot](./img/bqplot.gif)\n",
    "\n",
    "## ipyleaflet\n",
    "\n",
    "![ipyleaflet](./img/ipyleaflet.gif)\n",
    "\n",
    "## ipyvolume\n",
    "\n",
    "![ipyvolume](./img/ipyvolume.gif)"
   ]
  },
  {
   "cell_type": "markdown",
   "metadata": {},
   "source": [
    "![skip](./img/skip.png)"
   ]
  },
  {
   "cell_type": "markdown",
   "metadata": {},
   "source": [
    "# Motivation: Very Custom Visualizations"
   ]
  },
  {
   "cell_type": "markdown",
   "metadata": {},
   "source": [
    "![motivation](./img/pixijs-jupyterlab.gif)"
   ]
  },
  {
   "cell_type": "markdown",
   "metadata": {},
   "source": [
    "![skip](./img/skip.png)"
   ]
  },
  {
   "cell_type": "markdown",
   "metadata": {},
   "source": [
    "# Drawing Shapes on a Canvas"
   ]
  },
  {
   "cell_type": "code",
   "execution_count": 5,
   "metadata": {},
   "outputs": [],
   "source": [
    "from ipyutils import SimpleShape"
   ]
  },
  {
   "cell_type": "markdown",
   "metadata": {},
   "source": [
    "# Implementation\n",
    "\n",
    "## - [simple_shape.py](../ipyutils/simple_shape.py): defines the **SimpleShape** Python class\n",
    "## - [widget.ts](../src/simple_shapes/widget.ts): defines the **SimpleShapeModel** and **SimpleShapeView** Typescript classes"
   ]
  },
  {
   "cell_type": "code",
   "execution_count": 6,
   "metadata": {},
   "outputs": [
    {
     "data": {
      "application/vnd.jupyter.widget-view+json": {
       "model_id": "21e458d6b40b470ca880e2437069a12f",
       "version_major": 2,
       "version_minor": 0
      },
      "text/plain": [
       "SimpleShape()"
      ]
     },
     "metadata": {},
     "output_type": "display_data"
    }
   ],
   "source": [
    "square = SimpleShape()\n",
    "square"
   ]
  },
  {
   "cell_type": "code",
   "execution_count": 7,
   "metadata": {},
   "outputs": [],
   "source": [
    "square.rotate = True"
   ]
  },
  {
   "cell_type": "markdown",
   "metadata": {},
   "source": [
    "# Level Up 🚀"
   ]
  },
  {
   "cell_type": "code",
   "execution_count": 8,
   "metadata": {},
   "outputs": [
    {
     "data": {
      "application/vnd.jupyter.widget-view+json": {
       "model_id": "02bd2239da424dfc92c9a2c3c6b16fc5",
       "version_major": 2,
       "version_minor": 0
      },
      "text/plain": [
       "Shapes(n_shapes=100)"
      ]
     },
     "metadata": {},
     "output_type": "display_data"
    }
   ],
   "source": [
    "from ipyutils import Shapes\n",
    "shapes = Shapes(n_shapes=100)\n",
    "shapes"
   ]
  },
  {
   "cell_type": "code",
   "execution_count": 9,
   "metadata": {},
   "outputs": [
    {
     "data": {
      "text/plain": [
       "'circle'"
      ]
     },
     "execution_count": 9,
     "metadata": {},
     "output_type": "execute_result"
    }
   ],
   "source": [
    "shapes.shape"
   ]
  },
  {
   "cell_type": "code",
   "execution_count": 10,
   "metadata": {},
   "outputs": [],
   "source": [
    "shapes.shape = 'square'"
   ]
  },
  {
   "cell_type": "code",
   "execution_count": 11,
   "metadata": {},
   "outputs": [],
   "source": [
    "shapes.rotate = True"
   ]
  },
  {
   "cell_type": "code",
   "execution_count": 12,
   "metadata": {},
   "outputs": [],
   "source": [
    "shapes.wobble = True"
   ]
  },
  {
   "cell_type": "markdown",
   "metadata": {},
   "source": [
    "![skip](./img/skip.png)"
   ]
  },
  {
   "cell_type": "markdown",
   "metadata": {},
   "source": [
    "# Visualizing Recursion with the Bermuda Triangle Puzzle\n",
    "\n",
    "![Bermuda Triangle Puzzle](img/bermuda_triangle_puzzle.jpg)"
   ]
  },
  {
   "cell_type": "markdown",
   "metadata": {},
   "source": [
    "![skip](./img/skip.png)"
   ]
  },
  {
   "cell_type": "markdown",
   "metadata": {},
   "source": [
    "# Motivation\n",
    "\n",
    "# * Solve the puzzle programmatically\n",
    "# * Verify a solution visually\n",
    "# * Animate the process"
   ]
  },
  {
   "cell_type": "markdown",
   "metadata": {},
   "source": [
    "![skip](./img/skip.png)"
   ]
  },
  {
   "cell_type": "markdown",
   "metadata": {},
   "source": [
    "# BermudaTriangle Widget"
   ]
  },
  {
   "cell_type": "code",
   "execution_count": 13,
   "metadata": {},
   "outputs": [
    {
     "data": {
      "application/vnd.jupyter.widget-view+json": {
       "model_id": "5a470328fd27440591af497dabec0a24",
       "version_major": 2,
       "version_minor": 0
      },
      "text/plain": [
       "TriangleAnimation(children=(Box(children=(ToggleButton(value=False, button_style='success', description='Play …"
      ]
     },
     "metadata": {},
     "output_type": "display_data"
    }
   ],
   "source": [
    "from ipyutils import TriangleAnimation, BermudaTriangle\n",
    "triangles = TriangleAnimation()\n",
    "triangles"
   ]
  },
  {
   "cell_type": "markdown",
   "metadata": {},
   "source": [
    "![skip](./img/skip.png)"
   ]
  },
  {
   "cell_type": "markdown",
   "metadata": {},
   "source": [
    "# What can we do with this widget?"
   ]
  },
  {
   "cell_type": "markdown",
   "metadata": {},
   "source": [
    "![skip](./img/skip.png)"
   ]
  },
  {
   "cell_type": "markdown",
   "metadata": {},
   "source": [
    "# Visualize Transitions\n",
    "\n",
    "From                       |  To\n",
    ":--------------------------:|:-------------------------:\n",
    "![from](img/anim_from.png)  |  ![to](img/anim_to.png)"
   ]
  },
  {
   "cell_type": "code",
   "execution_count": 14,
   "metadata": {},
   "outputs": [
    {
     "name": "stdout",
     "output_type": "stream",
     "text": [
      "[None, None, None, None, None, None, None, None, None, None, None, None, None, None, None, None]\n"
     ]
    }
   ],
   "source": [
    "# states\n",
    "state_0 = [None] * 16\n",
    "print(state_0)"
   ]
  },
  {
   "cell_type": "code",
   "execution_count": 15,
   "metadata": {},
   "outputs": [
    {
     "name": "stdout",
     "output_type": "stream",
     "text": [
      "[[13, 1], None, None, None, None, None, None, None, None, None, None, None, None, None, None, None]\n"
     ]
    }
   ],
   "source": [
    "state_1 = [[13, 1]] + [None] * 15\n",
    "print(state_1)"
   ]
  },
  {
   "cell_type": "code",
   "execution_count": 16,
   "metadata": {},
   "outputs": [
    {
     "name": "stdout",
     "output_type": "stream",
     "text": [
      "[[13, 1], [12, 0], None, None, None, None, None, None, None, None, None, None, None, None, None, None]\n"
     ]
    }
   ],
   "source": [
    "state_2 = [[13, 1], [12, 0]] + [None] * 14\n",
    "print(state_2)"
   ]
  },
  {
   "cell_type": "markdown",
   "metadata": {},
   "source": [
    "# Example States and Animation"
   ]
  },
  {
   "cell_type": "code",
   "execution_count": 17,
   "metadata": {},
   "outputs": [
    {
     "data": {
      "application/vnd.jupyter.widget-view+json": {
       "model_id": "61e889fd06af427091e80d9dd4666905",
       "version_major": 2,
       "version_minor": 0
      },
      "text/plain": [
       "TriangleAnimation(children=(Box(children=(ToggleButton(value=False, button_style='success', description='Play …"
      ]
     },
     "metadata": {},
     "output_type": "display_data"
    }
   ],
   "source": [
    "example_states = TriangleAnimation()\n",
    "bermuda = example_states.bermuda\n",
    "bermuda.states = [\n",
    "    [None] * 16,\n",
    "    [[7, 0]] + [None] * 15,\n",
    "    [[7, 1]] + [None] * 15,\n",
    "    [[7, 2]] + [None] * 15,\n",
    "    [[7, 2], [0, 0]] + [None] * 14,\n",
    "    [[7, 2], [0, 1]] + [None] * 14,\n",
    "    [[i, 0] for i in range(16)],\n",
    "    [[i, 1] for i in range(16)],\n",
    "]\n",
    "example_states"
   ]
  },
  {
   "cell_type": "markdown",
   "metadata": {},
   "source": [
    "![skip](./img/skip.png)"
   ]
  },
  {
   "cell_type": "markdown",
   "metadata": {},
   "source": [
    "# Solver"
   ]
  },
  {
   "cell_type": "code",
   "execution_count": 18,
   "metadata": {},
   "outputs": [],
   "source": [
    "from copy import deepcopy\n",
    "\n",
    "class Solver(BermudaTriangle):\n",
    "\n",
    "    def __init__(self, **kwargs):\n",
    "        super().__init__(**kwargs)\n",
    "        self.reset_state()\n",
    "        \n",
    "    def reset_state(self):\n",
    "        self.board = [None] * self.N_TRIANGLES\n",
    "        self.logs = [deepcopy(self.board)]\n",
    "        self.it = 0\n",
    "        \n",
    "    def solve(self):\n",
    "        '''\n",
    "        Method to implement\n",
    "        '''\n",
    "        raise NotImplementedError()\n",
    "\n",
    "    def log(self):\n",
    "        self.logs.append(deepcopy(self.board))\n",
    "    \n",
    "    def found(self):\n",
    "        return all(self.is_valid(i) for i in range(self.N_TRIANGLES))\n",
    "    \n",
    "    def save_state(self):\n",
    "        self.permutation = self.board\n",
    "        self.states = self.logs"
   ]
  },
  {
   "cell_type": "markdown",
   "metadata": {},
   "source": [
    "# Valid Permutation - is_valid()"
   ]
  },
  {
   "cell_type": "code",
   "execution_count": 19,
   "metadata": {},
   "outputs": [
    {
     "name": "stdout",
     "output_type": "stream",
     "text": [
      "Help on function is_valid in module ipyutils.bermuda:\n",
      "\n",
      "is_valid(self, i)\n",
      "    Parameters\n",
      "    ----------\n",
      "    \n",
      "    i: int\n",
      "        Position of the triangle to check, between 0 and 15 (inclusive)\n",
      "    \n",
      "    Returns\n",
      "    -------\n",
      "    valid: bool\n",
      "        True if the triangle at position i doesn't have any conflict\n",
      "        False otherwise\n",
      "\n"
     ]
    }
   ],
   "source": [
    "help(Solver.is_valid)"
   ]
  },
  {
   "cell_type": "markdown",
   "metadata": {},
   "source": [
    "```python\n",
    "solver.is_valid(7)\n",
    "# False\n",
    "```\n",
    "![Valid](./img/valid_triangle.png)"
   ]
  },
  {
   "cell_type": "markdown",
   "metadata": {},
   "source": [
    "![skip](./img/skip.png)"
   ]
  },
  {
   "cell_type": "markdown",
   "metadata": {},
   "source": [
    "# First Try: Random Permutations"
   ]
  },
  {
   "cell_type": "code",
   "execution_count": 20,
   "metadata": {},
   "outputs": [],
   "source": [
    "import random\n",
    "\n",
    "class RandomSearch(Solver):\n",
    "    \n",
    "    def solve(self):\n",
    "        random.seed(42)\n",
    "        self.reset_state()\n",
    "        for i in range(200):\n",
    "            self.board = random.sample(self.permutation, self.N_TRIANGLES)\n",
    "            self.log()\n",
    "            if self.found():\n",
    "                print('Found!')\n",
    "                return True\n",
    "        return False"
   ]
  },
  {
   "cell_type": "code",
   "execution_count": 21,
   "metadata": {},
   "outputs": [
    {
     "name": "stdout",
     "output_type": "stream",
     "text": [
      "CPU times: user 93.8 ms, sys: 3.94 ms, total: 97.7 ms\n",
      "Wall time: 97.5 ms\n"
     ]
    }
   ],
   "source": [
    "%%time\n",
    "\n",
    "solver = RandomSearch()\n",
    "res = solver.solve()\n",
    "solver.save_state()"
   ]
  },
  {
   "cell_type": "code",
   "execution_count": 22,
   "metadata": {},
   "outputs": [
    {
     "data": {
      "application/vnd.jupyter.widget-view+json": {
       "model_id": "2a3b59badfb149d1a4ff58c335e27466",
       "version_major": 2,
       "version_minor": 0
      },
      "text/plain": [
       "TriangleAnimation(children=(Box(children=(ToggleButton(value=False, button_style='success', description='Play …"
      ]
     },
     "metadata": {},
     "output_type": "display_data"
    }
   ],
   "source": [
    "rnd = TriangleAnimation()\n",
    "rnd.bermuda.title = 'Random Search'\n",
    "rnd.bermuda.states = solver.states\n",
    "rnd"
   ]
  },
  {
   "cell_type": "markdown",
   "metadata": {},
   "source": [
    "![skip](./img/skip.png)"
   ]
  },
  {
   "cell_type": "markdown",
   "metadata": {},
   "source": [
    "# Better: Brute Force using Recursion"
   ]
  },
  {
   "cell_type": "code",
   "execution_count": 23,
   "metadata": {},
   "outputs": [],
   "source": [
    "class RecursiveSolver(Solver):\n",
    "    \n",
    "    def solve(self):\n",
    "        self.used = [False] * self.N_TRIANGLES\n",
    "        self.reset_state()\n",
    "        self._place(0)\n",
    "        return self.board\n",
    "    \n",
    "    def _place(self, i):\n",
    "        self.it += 1\n",
    "        if i == self.N_TRIANGLES:\n",
    "            return True\n",
    "        \n",
    "        for j in range(self.N_TRIANGLES - 1, -1, -1):\n",
    "            if self.used[j]:\n",
    "                # piece number j already used\n",
    "                continue\n",
    "                \n",
    "            self.used[j] = True\n",
    "            \n",
    "            for rot in range(3):\n",
    "                # place the piece on the board\n",
    "                self.board[i] = (j, rot)\n",
    "                self.log()\n",
    "\n",
    "                # stop the recursion if the current configuration\n",
    "                # is not valid or a solution has been found\n",
    "                if self.is_valid(i) and self._place(i + 1):\n",
    "                    return True\n",
    "\n",
    "            # remove the piece from the board\n",
    "            self.board[i] = None\n",
    "            self.used[j] = False\n",
    "            self.log()\n",
    "            \n",
    "        return False"
   ]
  },
  {
   "cell_type": "code",
   "execution_count": 24,
   "metadata": {},
   "outputs": [
    {
     "name": "stdout",
     "output_type": "stream",
     "text": [
      "Solution found!\n",
      "10753 steps\n",
      "CPU times: user 2.3 s, sys: 10.1 ms, total: 2.31 s\n",
      "Wall time: 2.32 s\n"
     ]
    }
   ],
   "source": [
    "%%time\n",
    "\n",
    "solver = RecursiveSolver()\n",
    "res = solver.solve()\n",
    "if solver.found():\n",
    "    print('Solution found!')\n",
    "    print(f'{len(solver.logs)} steps')\n",
    "    solver.save_state()\n",
    "else:\n",
    "    print('No solution found')"
   ]
  },
  {
   "cell_type": "code",
   "execution_count": 25,
   "metadata": {},
   "outputs": [
    {
     "data": {
      "application/vnd.jupyter.widget-view+json": {
       "model_id": "e8f2db6b33ec4fd687099e17eb2bc315",
       "version_major": 2,
       "version_minor": 0
      },
      "text/plain": [
       "TriangleAnimation(children=(Box(children=(ToggleButton(value=False, button_style='success', description='Play …"
      ]
     },
     "metadata": {},
     "output_type": "display_data"
    }
   ],
   "source": [
    "recursion = TriangleAnimation()\n",
    "recursion.bermuda.title = 'Recursive Search'\n",
    "recursion.bermuda.states = solver.states\n",
    "recursion"
   ]
  },
  {
   "cell_type": "markdown",
   "metadata": {},
   "source": [
    "![skip](./img/skip.png)"
   ]
  },
  {
   "cell_type": "markdown",
   "metadata": {},
   "source": [
    "# More details for this example\n",
    "\n",
    "## * In depth walkthrough on how to create a Jupyter Widget in the notebook\n",
    "## * [p5.js in the Jupyter Notebook for custom interactive visualizations](https://github.com/jtpio/p5-jupyter-notebook/blob/master/puzzle.ipynb)\n",
    "## * Using p5.js instead of Pixi.js, but similar concepts\n",
    "## * Source: [github.com/jtpio/p5-jupyter-notebook](https://github.com/jtpio/p5-jupyter-notebook)\n",
    "## * [Run on Binder](https://mybinder.org/v2/gh/jtpio/p5-jupyter-notebook/master?filepath=puzzle.ipynb)"
   ]
  },
  {
   "cell_type": "markdown",
   "metadata": {},
   "source": [
    "![skip](./img/skip.png)"
   ]
  },
  {
   "cell_type": "markdown",
   "metadata": {},
   "source": [
    "# Game State Viewer"
   ]
  },
  {
   "cell_type": "markdown",
   "metadata": {},
   "source": [
    "![skip](./img/skip.png)"
   ]
  },
  {
   "cell_type": "markdown",
   "metadata": {},
   "source": [
    "![Pearl](./wooga/pearl.png)"
   ]
  },
  {
   "cell_type": "markdown",
   "metadata": {},
   "source": [
    "![skip](./img/skip.png)"
   ]
  },
  {
   "cell_type": "markdown",
   "metadata": {},
   "source": [
    "![HO scene](./wooga/ho_scene.jpg)"
   ]
  },
  {
   "cell_type": "markdown",
   "metadata": {},
   "source": [
    "![skip](./img/skip.png)"
   ]
  },
  {
   "cell_type": "markdown",
   "metadata": {},
   "source": [
    "![Island](./wooga/island.jpg)"
   ]
  },
  {
   "cell_type": "markdown",
   "metadata": {},
   "source": [
    "![skip](./img/skip.png)"
   ]
  },
  {
   "cell_type": "markdown",
   "metadata": {},
   "source": [
    "# Admin Tool\n",
    "\n",
    "![Admin Tool](./wooga/admin_tool.gif)\n",
    "\n",
    "Originally authored by [Benedikt Forchhammer](https://github.com/bforchhammer) at Wooga"
   ]
  },
  {
   "cell_type": "markdown",
   "metadata": {},
   "source": [
    "![skip](./img/skip.png)"
   ]
  },
  {
   "cell_type": "markdown",
   "metadata": {},
   "source": [
    "# Working with Player States in JupyterLab\n",
    "\n",
    "# * Game State Analysis"
   ]
  },
  {
   "cell_type": "markdown",
   "metadata": {},
   "source": [
    "![skip](./img/skip.png)"
   ]
  },
  {
   "cell_type": "markdown",
   "metadata": {},
   "source": [
    "# Island Viewer Widget\n",
    "\n",
    "## [Video](http://localhost:8888/files/examples/wooga/overview_island.mp4)"
   ]
  },
  {
   "cell_type": "code",
   "execution_count": 32,
   "metadata": {},
   "outputs": [
    {
     "name": "stdout",
     "output_type": "stream",
     "text": [
      "The islandviewer widget is available to public (but it might be in the future?).\n",
      "The rest of this example will not work with your setup or on Binder\n"
     ]
    }
   ],
   "source": [
    "try:\n",
    "    from islandviewer import PPIslandWidget\n",
    "except ModuleNotFoundError:\n",
    "    print('The islandviewer widget is available to public (but it might be in the future?).')\n",
    "    print('The rest of this example will not work with your setup or on Binder.')    "
   ]
  },
  {
   "cell_type": "code",
   "execution_count": 26,
   "metadata": {},
   "outputs": [],
   "source": [
    "import json\n",
    "from copy import deepcopy\n",
    "\n",
    "with open('./wooga/example_state.json', 'r') as f:\n",
    "    example_state = json.loads(f.read())"
   ]
  },
  {
   "cell_type": "code",
   "execution_count": 27,
   "metadata": {},
   "outputs": [
    {
     "name": "stdout",
     "output_type": "stream",
     "text": [
      "[\n",
      "    {\n",
      "        \"x\": 34,\n",
      "        \"y\": 20,\n",
      "        \"type_id\": 14\n",
      "    },\n",
      "    {\n",
      "        \"x\": 34,\n",
      "        \"y\": 21,\n",
      "        \"type_id\": 58\n",
      "    },\n",
      "    {\n",
      "        \"x\": 29,\n",
      "        \"y\": 20,\n",
      "        \"type_id\": 75\n",
      "    },\n",
      "    {\n",
      "        \"x\": 28,\n",
      "        \"y\": 31,\n",
      "        \"type_id\": 63\n",
      "    },\n",
      "    {\n",
      "        \"x\": 28,\n",
      "        \"y\": 21,\n",
      "        \"type_id\": 15\n",
      "    }\n",
      "]\n"
     ]
    }
   ],
   "source": [
    "print(json.dumps(example_state['iso_items'][12:17], indent=4))"
   ]
  },
  {
   "cell_type": "code",
   "execution_count": null,
   "metadata": {},
   "outputs": [],
   "source": [
    "island = PPIslandWidget(base_url='http://localhost:3000/')\n",
    "island.state = example_state\n",
    "island"
   ]
  },
  {
   "cell_type": "markdown",
   "metadata": {},
   "source": [
    "## Replace with a different state"
   ]
  },
  {
   "cell_type": "code",
   "execution_count": null,
   "metadata": {},
   "outputs": [],
   "source": [
    "with open('./wooga/1.json', 'r') as f:\n",
    "    state_1 = json.loads(f.read())\n",
    "\n",
    "island.state = state_1"
   ]
  },
  {
   "cell_type": "markdown",
   "metadata": {},
   "source": [
    "## Modify the state"
   ]
  },
  {
   "cell_type": "code",
   "execution_count": null,
   "metadata": {},
   "outputs": [],
   "source": [
    "big_island = PPIslandWidget(base_url='http://localhost:3000')\n",
    "\n",
    "with open('./wooga/2.json', 'r') as f:\n",
    "    state_2 = json.loads(f.read())\n",
    "\n",
    "big_island.state = state_2\n",
    "big_island"
   ]
  },
  {
   "cell_type": "code",
   "execution_count": null,
   "metadata": {},
   "outputs": [],
   "source": [
    "state_3 = deepcopy(state_2)\n",
    "items = state_2['iso_items']\n",
    "state_3['iso_items'] = items[:len(items) // 2]\n",
    "big_island.state = state_3"
   ]
  },
  {
   "cell_type": "markdown",
   "metadata": {},
   "source": [
    "## Build a state from scratch"
   ]
  },
  {
   "cell_type": "code",
   "execution_count": null,
   "metadata": {},
   "outputs": [],
   "source": [
    "w = PPIslandWidget(base_url='http://localhost:3000')\n",
    "w"
   ]
  },
  {
   "cell_type": "code",
   "execution_count": null,
   "metadata": {},
   "outputs": [],
   "source": [
    "new_state = {\n",
    "    'regions': deepcopy(state_1['regions'])\n",
    "}\n",
    "\n",
    "items = []\n",
    "for y in range(10):\n",
    "    items.append({\n",
    "        'x': 15,  # change to 25\n",
    "        'y': 10 + y * 2,\n",
    "        'type_id': 500 + y\n",
    "    })\n",
    "new_state['iso_items'] = items\n",
    "\n",
    "w.state = new_state"
   ]
  },
  {
   "cell_type": "markdown",
   "metadata": {},
   "source": [
    "![skip](./img/skip.png)"
   ]
  },
  {
   "cell_type": "markdown",
   "metadata": {},
   "source": [
    "# Recap\n",
    "\n",
    "## * Custom interactive animations with Pixi.js\n",
    "## * Leverage the JavaScript ecosystem in JupyterLab"
   ]
  },
  {
   "cell_type": "markdown",
   "metadata": {},
   "source": [
    "![skip](./img/skip.png)"
   ]
  },
  {
   "cell_type": "markdown",
   "metadata": {},
   "source": [
    "# Applications\n",
    "\n",
    "## * Visual debugging and understanding\n",
    "## * Teaching and education, learning by doing\n",
    "## * Combine JavaScript games with data\n",
    "\n",
    "# Downside\n",
    "\n",
    "## * Requires some effort to build the visualizations in TypeScript / JavaScript"
   ]
  },
  {
   "cell_type": "markdown",
   "metadata": {},
   "source": [
    "![skip](./img/skip.png)"
   ]
  },
  {
   "cell_type": "markdown",
   "metadata": {},
   "source": [
    "# References\n",
    "\n",
    "## Presentations\n",
    "\n",
    "### - [Jake VanderPlas: The Python Visualization Landscape PyCon 2017](https://www.youtube.com/watch?v=FytuB8nFHPQ)\n",
    "### - [PyData London 2016: Sylvain Corlay - Interactive Visualization in Jupyter with Bqplot and Interactive Widgets](https://www.youtube.com/watch?v=eVET9IYgbao)\n",
    "### - [PLOTCON 2017: Sylvain Corlay, Interactive Data Visualization in JupyterLab with Jupyter](https://www.youtube.com/watch?v=p7Hr54VhOp0)\n",
    "### - [PyData Amsterdam 2017: Maarten Breddels | A billion stars in the Jupyter Notebook](https://www.youtube.com/watch?v=bP-JBbjwLM8)\n",
    "\n",
    "## Widgets\n",
    "\n",
    "### - [Building a Custom Widget Tutorial](https://ipywidgets.readthedocs.io/en/stable/examples/Widget%20Custom.html)\n",
    "### - [Authoring Custom Jupyter Widgets](https://blog.jupyter.org/authoring-custom-jupyter-widgets-2884a462e724)\n",
    "### - [p5.js in the Jupyter Notebook for custom interactive visualizations](https://github.com/jtpio/p5-jupyter-notebook/blob/master/puzzle.ipynb)\n",
    "### - [pythreejs](https://github.com/jovyan/pythreejs): Implemented as an Jupyter Widget\n",
    "### - [bqplot](https://github.com/bloomberg/bqplot): Great library for interactive data exploration\n",
    "### - [ipyvolume](https://github.com/maartenbreddels/ipyvolume): 3d plotting for Python in the Jupyter Notebook\n",
    "### - [ipyleaflet](https://github.com/jupyter-widgets/ipyleaflet): interactive maps in the Jupyter notebook"
   ]
  },
  {
   "cell_type": "markdown",
   "metadata": {},
   "source": [
    "![skip](./img/skip.png)"
   ]
  },
  {
   "cell_type": "markdown",
   "metadata": {},
   "source": [
    "# Questions?\n",
    "\n",
    "## [@jtpio](https://twitter.com/jtpio)\n",
    "\n",
    "## [github.com/jtpio](https://github.com/jtpio)\n",
    "\n",
    "## [jtp.io](jtp.io)"
   ]
  },
  {
   "cell_type": "markdown",
   "metadata": {},
   "source": [
    "![skip](./img/skip.png)"
   ]
  }
 ],
 "metadata": {
  "kernelspec": {
   "display_name": "Python 3",
   "language": "python",
   "name": "python3"
  },
  "language_info": {
   "codemirror_mode": {
    "name": "ipython",
    "version": 3
   },
   "file_extension": ".py",
   "mimetype": "text/x-python",
   "name": "python",
   "nbconvert_exporter": "python",
   "pygments_lexer": "ipython3",
   "version": "3.6.5"
  }
 },
 "nbformat": 4,
 "nbformat_minor": 2
}
